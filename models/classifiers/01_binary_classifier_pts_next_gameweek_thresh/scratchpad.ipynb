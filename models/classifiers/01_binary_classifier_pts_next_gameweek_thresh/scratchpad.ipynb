{
 "cells": [
  {
   "cell_type": "code",
   "execution_count": 17,
   "metadata": {},
   "outputs": [],
   "source": [
    "import pandas as pd\n",
    "import os\n",
    "\n",
    "from sklearn.preprocessing import OneHotEncoder\n",
    "\n",
    "def preprocess_values(df_this):\n",
    "    \"\"\"\n",
    "    This function handles NaN values and converts object columns to numeric types.\n",
    "    \"\"\"\n",
    "\n",
    "    # handle NaN values\n",
    "    df_this = df_this.fillna(0)  # Replace NaNs with 0s\n",
    "    \n",
    "    # handle categorical values\n",
    "    categorical_cols = list(df_this.select_dtypes(include=['object']).columns)\n",
    "\n",
    "    # one-hot encode categorical columns\n",
    "    myOneHotEncoder = OneHotEncoder(sparse_output=False, handle_unknown='ignore')\n",
    "    df_encoded = pd.DataFrame(myOneHotEncoder.fit_transform(df_this[categorical_cols]))\n",
    "\n",
    "    df_encoded.columns = myOneHotEncoder.get_feature_names_out(categorical_cols)\n",
    "    df_this = df_this.drop(columns=categorical_cols, axis=1)\n",
    "    df_this = pd.concat([df_encoded, df_this], axis=1)\n",
    "\n",
    "    return df_this\n",
    "\n",
    "def get_target_column(df_this, gw):\n",
    "    \"\"\"\n",
    "    Returns the boolean \n",
    "    \"\"\"\n",
    "    target_col = f'total_points_gw{gw}'\n",
    "    return df_this[target_col] > 4  # threshold for next gameweek points to be considered as a good performance\n",
    "\n",
    "def get_df_for_gw(df_this, gw):\n",
    "    \"\"\"\n",
    "    Returns a DataFrame with all data for the gameweek just before the one that is targeted.\n",
    "    \"\"\"\n",
    "    if gw == 1:\n",
    "        raise ValueError(\"Gameweek 1 does not have a previous gameweek to reference.\")\n",
    "    if gw > 38:\n",
    "        raise ValueError(\"Gameweek must be between 1 and 38.\")\n",
    "    \n",
    "    # get the columns for the gameweek just before the one that is targeted\n",
    "    static_cols_to_keep = [col for col in df_this.columns if \"_gw\" not in col]\n",
    "    gw_suffixes = [f\"_gw{idx}\" for idx in range(1, gw)]\n",
    "    gw_cols_to_keep = [col for col in df_this.columns for suffix in gw_suffixes if col.endswith(suffix) ]\n",
    "\n",
    "    # Filter the DataFrame to keep only the desired columns\n",
    "    cols_to_keep = static_cols_to_keep + gw_cols_to_keep\n",
    "    df_filtered = df_this[cols_to_keep]\n",
    "\n",
    "    # get target column\n",
    "    df_target_col = get_target_column(df_this, gw)\n",
    "\n",
    "    # merge df_filtered with the target column\n",
    "    df_filtered = df_filtered.merge(df_target_col.rename('target'), left_index=True, right_index=True)\n",
    "\n",
    "    return df_filtered\n",
    "\n",
    "def get_df():\n",
    "    \"\"\"\n",
    "    Returns a DataFrame with all data for the 2022–23 Fantasy Premier League season.\n",
    "    The DataFrame contains aggregated statistics for each player across all gameweeks.\n",
    "    \"\"\"\n",
    "\n",
    "    # read the data\n",
    "    csv_path = '../../../data/raw/vaastav_2022_23.csv'\n",
    "    df = pd.read_csv(csv_path)\n",
    "\n",
    "    # extract team and position information\n",
    "    df_common = df.groupby('element').agg({'team': 'first',\n",
    "                                             'position': 'first'\n",
    "                                             }).reset_index()\n",
    "\n",
    "    # select features\n",
    "    cols_to_keep = ['minutes',\n",
    "                    'goals_scored', \n",
    "                    'assists', \n",
    "                    'expected_goals', \n",
    "                    'expected_assists', \n",
    "                    'clean_sheets',\n",
    "                    'ict_index',\n",
    "                    'bps', \n",
    "                    'bonus', \n",
    "                    'total_points',\n",
    "                    ]\n",
    "\n",
    "    # pivot table to get unified dataframe\n",
    "    df_multigw = df.pivot_table(index='element', \n",
    "                    columns = 'GW', \n",
    "                    values = cols_to_keep, \n",
    "                    aggfunc='sum').reset_index()\n",
    "\n",
    "    # flatten columns with gameweek suffix\n",
    "    df_multigw.columns = [f\"{col}_gw{int(gw)}\" if isinstance(gw, (int,float)) else col for col,gw in df_multigw.columns]\n",
    "\n",
    "    # merge common information with gamew data\n",
    "    df_multigw = df_common.merge(df_multigw, on='element', how='left')\n",
    "\n",
    "    # set element as the index\n",
    "    df_multigw.set_index('element', inplace=True)\n",
    "\n",
    "    return df_multigw"
   ]
  },
  {
   "cell_type": "code",
   "execution_count": 18,
   "metadata": {},
   "outputs": [
    {
     "name": "stdout",
     "output_type": "stream",
     "text": [
      "            team position  assists_gw1  assists_gw2  assists_gw3  assists_gw4  \\\n",
      "element                                                                         \n",
      "1        Arsenal      DEF          0.0          0.0          0.0          0.0   \n",
      "2         Fulham       GK          0.0          0.0          0.0          0.0   \n",
      "3        Arsenal      MID          0.0          1.0          1.0          0.0   \n",
      "4        Arsenal      MID          0.0          0.0          0.0          0.0   \n",
      "5        Arsenal      DEF          0.0          0.0          0.0          0.0   \n",
      "\n",
      "         assists_gw5  assists_gw6  assists_gw8  assists_gw9  ...  \\\n",
      "element                                                      ...   \n",
      "1                0.0          0.0          0.0          0.0  ...   \n",
      "2                0.0          0.0          0.0          0.0  ...   \n",
      "3                0.0          0.0          1.0          0.0  ...   \n",
      "4                0.0          0.0          0.0          0.0  ...   \n",
      "5                0.0          0.0          0.0          0.0  ...   \n",
      "\n",
      "         total_points_gw29  total_points_gw30  total_points_gw31  \\\n",
      "element                                                            \n",
      "1                      1.0                2.0                0.0   \n",
      "2                      2.0                3.0                3.0   \n",
      "3                      9.0                1.0                2.0   \n",
      "4                      0.0                0.0                0.0   \n",
      "5                      2.0                1.0                1.0   \n",
      "\n",
      "         total_points_gw32  total_points_gw33  total_points_gw34  \\\n",
      "element                                                            \n",
      "1                      0.0                1.0                2.0   \n",
      "2                      2.0                2.0                5.0   \n",
      "3                      0.0                1.0               13.0   \n",
      "4                      0.0                0.0                0.0   \n",
      "5                      1.0                6.0                1.0   \n",
      "\n",
      "         total_points_gw35  total_points_gw36  total_points_gw37  \\\n",
      "element                                                            \n",
      "1                      0.0                0.0                0.0   \n",
      "2                      9.0                8.0                2.0   \n",
      "3                      3.0                1.0                2.0   \n",
      "4                      0.0                0.0                0.0   \n",
      "5                      0.0                0.0                0.0   \n",
      "\n",
      "         total_points_gw38  \n",
      "element                     \n",
      "1                      0.0  \n",
      "2                      3.0  \n",
      "3                     15.0  \n",
      "4                      0.0  \n",
      "5                      0.0  \n",
      "\n",
      "[5 rows x 372 columns]\n"
     ]
    }
   ],
   "source": [
    "df = get_df()\n",
    "print(df.head())\n"
   ]
  },
  {
   "cell_type": "code",
   "execution_count": 19,
   "metadata": {},
   "outputs": [],
   "source": [
    "# extract just data to predict gw X\n",
    "gw = 5\n",
    "df_gw = get_df_for_gw(df, gw)"
   ]
  },
  {
   "cell_type": "code",
   "execution_count": 20,
   "metadata": {},
   "outputs": [],
   "source": [
    "# value preprocess\n",
    "df_gw = preprocess_values(df_gw)"
   ]
  },
  {
   "cell_type": "code",
   "execution_count": 21,
   "metadata": {},
   "outputs": [
    {
     "data": {
      "text/plain": [
       "team_Arsenal        1.0\n",
       "team_Aston Villa    0.0\n",
       "team_Bournemouth    0.0\n",
       "team_Brentford      0.0\n",
       "team_Brighton       0.0\n",
       "                   ... \n",
       "total_points_gw1    NaN\n",
       "total_points_gw2    NaN\n",
       "total_points_gw3    NaN\n",
       "total_points_gw4    NaN\n",
       "target              NaN\n",
       "Name: 0, Length: 65, dtype: object"
      ]
     },
     "execution_count": 21,
     "metadata": {},
     "output_type": "execute_result"
    }
   ],
   "source": [
    "df_gw.iloc[0,:]"
   ]
  },
  {
   "cell_type": "code",
   "execution_count": 7,
   "metadata": {},
   "outputs": [],
   "source": [
    "# extract X and y\n",
    "y = df_gw.target\n",
    "X = df_gw.drop(columns=['target'], axis=1)"
   ]
  },
  {
   "cell_type": "code",
   "execution_count": 11,
   "metadata": {},
   "outputs": [
    {
     "data": {
      "text/plain": [
       "target\n",
       "False    778\n",
       "True       1\n",
       "Name: count, dtype: int64"
      ]
     },
     "execution_count": 11,
     "metadata": {},
     "output_type": "execute_result"
    }
   ],
   "source": [
    "y.isnull().value_counts()"
   ]
  },
  {
   "cell_type": "code",
   "execution_count": 12,
   "metadata": {},
   "outputs": [
    {
     "data": {
      "text/plain": [
       "team_Arsenal        1.0\n",
       "team_Aston Villa    0.0\n",
       "team_Bournemouth    0.0\n",
       "team_Brentford      0.0\n",
       "team_Brighton       0.0\n",
       "                   ... \n",
       "total_points_gw1    NaN\n",
       "total_points_gw2    NaN\n",
       "total_points_gw3    NaN\n",
       "total_points_gw4    NaN\n",
       "target              NaN\n",
       "Name: 0, Length: 65, dtype: object"
      ]
     },
     "execution_count": 12,
     "metadata": {},
     "output_type": "execute_result"
    }
   ],
   "source": [
    "df_gw.iloc[0,:]"
   ]
  },
  {
   "cell_type": "code",
   "execution_count": null,
   "metadata": {},
   "outputs": [],
   "source": []
  }
 ],
 "metadata": {
  "kernelspec": {
   "display_name": "Python 3",
   "language": "python",
   "name": "python3"
  },
  "language_info": {
   "codemirror_mode": {
    "name": "ipython",
    "version": 3
   },
   "file_extension": ".py",
   "mimetype": "text/x-python",
   "name": "python",
   "nbconvert_exporter": "python",
   "pygments_lexer": "ipython3",
   "version": "3.9.6"
  }
 },
 "nbformat": 4,
 "nbformat_minor": 2
}
